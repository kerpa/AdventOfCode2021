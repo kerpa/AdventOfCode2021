{
 "cells": [
  {
   "cell_type": "code",
   "execution_count": 1,
   "metadata": {},
   "outputs": [],
   "source": [
    "import numpy as np\n",
    "input_binary = np.genfromtxt('binary_diagnostic.csv', delimiter='\\n', dtype=\"U75\")"
   ]
  },
  {
   "cell_type": "code",
   "execution_count": 2,
   "metadata": {},
   "outputs": [],
   "source": [
    "list_for_test = ['00100',\n",
    "'11110',\n",
    "'10110',\n",
    "'10111',\n",
    "'10101',\n",
    "'01111',\n",
    "'00111',\n",
    "'11100',\n",
    "'10000',\n",
    "'11001',\n",
    "'00010',\n",
    "'01010']"
   ]
  },
  {
   "cell_type": "code",
   "execution_count": 3,
   "metadata": {},
   "outputs": [],
   "source": [
    "# find most frequent bit (MFB) at a given position\n",
    "def find_most_frequent_bit(list, position):\n",
    "    list_position = [item[position] for item in list]\n",
    "    list_position_count = [list_position.count(item) for item in list_position]\n",
    "    return list_position[list_position_count.index(max(list_position_count))]\n",
    "\n",
    "\n",
    "# find the least frequent bit (LFB) at a given position\n",
    "def find_least_frequent_bit(list, position):\n",
    "    list_position = [item[position] for item in list]\n",
    "    list_position_count = [list_position.count(item) for item in list_position]\n",
    "    return list_position[list_position_count.index(min(list_position_count))]"
   ]
  },
  {
   "cell_type": "code",
   "execution_count": 4,
   "metadata": {},
   "outputs": [],
   "source": [
    "#Create a mask for the MFB for the given position\n",
    "def create_mask_MFB(list, position):\n",
    "    mask = [True if i[position] == find_most_frequent_bit(list, position) else False for i in list]\n",
    "    return mask\n",
    "\n",
    "#Create a mask for the LFB for the given position\n",
    "def create_mask_LFB(list, position):\n",
    "    mask = [True if i[position] == find_least_frequent_bit(list, position) else False for i in list]\n",
    "    return mask"
   ]
  },
  {
   "cell_type": "code",
   "execution_count": 5,
   "metadata": {},
   "outputs": [],
   "source": [
    "#Apply the mask to the list\n",
    "def apply_mask(list, mask):\n",
    "    return [i for i, j in zip(list, mask) if j]"
   ]
  },
  {
   "cell_type": "code",
   "execution_count": 6,
   "metadata": {},
   "outputs": [],
   "source": [
    "#apply mask until we have only one string MFB\n",
    "def apply_mask_until_one_string_MFB(list):\n",
    "    i = 0\n",
    "    while len(list) > 2:\n",
    "        list = apply_mask(list, create_mask_MFB(list, i))\n",
    "        i += 1\n",
    "    if eval(list[0][i]) > eval(list[1][i]):\n",
    "        return list[0]\n",
    "    else:\n",
    "        return list[1]\n",
    "\n",
    "#apply mask until we have only one string LFB\n",
    "def apply_mask_until_one_string_LFB(list):\n",
    "    i = 0\n",
    "    while len(list) > 2:\n",
    "        list = apply_mask(list, create_mask_LFB(list, i))\n",
    "        i += 1\n",
    "    if eval(list[0][i]) > eval(list[1][i]):\n",
    "        return list[1]\n",
    "    else:\n",
    "        return list[0]\n"
   ]
  },
  {
   "cell_type": "code",
   "execution_count": 7,
   "metadata": {},
   "outputs": [
    {
     "name": "stdout",
     "output_type": "stream",
     "text": [
      "230\n"
     ]
    }
   ],
   "source": [
    "A_test = apply_mask_until_one_string_MFB(list_for_test)\n",
    "B_test = apply_mask_until_one_string_LFB(list_for_test)\n",
    "print(int(A_test,2) * int(B_test,2))"
   ]
  },
  {
   "cell_type": "code",
   "execution_count": 8,
   "metadata": {},
   "outputs": [
    {
     "name": "stdout",
     "output_type": "stream",
     "text": [
      "4481199\n"
     ]
    }
   ],
   "source": [
    "A = apply_mask_until_one_string_MFB(input_binary)\n",
    "B = apply_mask_until_one_string_LFB(input_binary)\n",
    "\n",
    "print(int(A,2) * int(B,2))"
   ]
  }
 ],
 "metadata": {
  "interpreter": {
   "hash": "382d39c3ac53e6337ac55162ad5e722ec7944445066a7fe21aafdd3d0fe8cd5c"
  },
  "kernelspec": {
   "display_name": "Python 3.9.7 64-bit ('PythonEnv': conda)",
   "language": "python",
   "name": "python3"
  },
  "language_info": {
   "codemirror_mode": {
    "name": "ipython",
    "version": 3
   },
   "file_extension": ".py",
   "mimetype": "text/x-python",
   "name": "python",
   "nbconvert_exporter": "python",
   "pygments_lexer": "ipython3",
   "version": "3.9.7"
  },
  "orig_nbformat": 4
 },
 "nbformat": 4,
 "nbformat_minor": 2
}
