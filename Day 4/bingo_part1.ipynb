{
 "cells": [
  {
   "cell_type": "code",
   "execution_count": 64,
   "metadata": {},
   "outputs": [],
   "source": [
    "import numpy as np"
   ]
  },
  {
   "cell_type": "code",
   "execution_count": 65,
   "metadata": {},
   "outputs": [
    {
     "data": {
      "text/plain": [
       "['7',\n",
       " '4',\n",
       " '9',\n",
       " '5',\n",
       " '11',\n",
       " '17',\n",
       " '23',\n",
       " '2',\n",
       " '0',\n",
       " '14',\n",
       " '21',\n",
       " '24',\n",
       " '10',\n",
       " '16',\n",
       " '13',\n",
       " '6',\n",
       " '15',\n",
       " '25',\n",
       " '12',\n",
       " '22',\n",
       " '18',\n",
       " '20',\n",
       " '8',\n",
       " '19',\n",
       " '3',\n",
       " '26',\n",
       " '1']"
      ]
     },
     "execution_count": 65,
     "metadata": {},
     "output_type": "execute_result"
    }
   ],
   "source": [
    "bingo_data = np.genfromtxt('bingo_data.csv', delimiter='\\n', dtype=\"U75\")\n",
    "bingo_data = bingo_data.tolist()\n",
    "\n",
    "bingo_header = bingo_data.pop(0)\n",
    "bingo_header = bingo_header.split(',')\n",
    "bingo_header = [x.strip() for x in bingo_header]\n",
    "bingo_header"
   ]
  },
  {
   "cell_type": "code",
   "execution_count": 66,
   "metadata": {},
   "outputs": [
    {
     "data": {
      "text/plain": [
       "['22 13 17 11  0',\n",
       " '8  2 23  4 24',\n",
       " '21  9 14 16  7',\n",
       " '6 10  3 18  5',\n",
       " '1 12 20 15 19',\n",
       " '3 15  0  2 22',\n",
       " '9 18 13 17  5',\n",
       " '19  8  7 25 23',\n",
       " '20 11 10 24  4',\n",
       " '14 21 16 12  6',\n",
       " '14 21 17 24  4',\n",
       " '10 16 15  9 19',\n",
       " '18  8 23 26 20',\n",
       " '22 11 13  6  5',\n",
       " '2  0 12  3  7']"
      ]
     },
     "execution_count": 66,
     "metadata": {},
     "output_type": "execute_result"
    }
   ],
   "source": [
    "#split each row into a list\n",
    "bingo_board= bingo_data.copy()\n",
    "bingo_board"
   ]
  },
  {
   "cell_type": "code",
   "execution_count": 67,
   "metadata": {},
   "outputs": [
    {
     "data": {
      "text/plain": [
       "['22', '13', '17', '11', '0']"
      ]
     },
     "execution_count": 67,
     "metadata": {},
     "output_type": "execute_result"
    }
   ],
   "source": [
    "#function that create a list from a string\n",
    "def list_from_string(string):\n",
    "    string = string.split(' ')\n",
    "    string = [x.strip() for x in string]\n",
    "    return string\n",
    "\n",
    "def pop_null(list):\n",
    "    while '' in list:\n",
    "        list.remove('')\n",
    "    return list\n",
    "\n",
    "A = '22 13 17 11  0'\n",
    "A = pop_null(list_from_string(A))\n",
    "A"
   ]
  },
  {
   "cell_type": "code",
   "execution_count": 68,
   "metadata": {},
   "outputs": [
    {
     "data": {
      "text/plain": [
       "[['22', '13', '17', '11', '0'],\n",
       " ['8', '2', '23', '4', '24'],\n",
       " ['21', '9', '14', '16', '7'],\n",
       " ['6', '10', '3', '18', '5'],\n",
       " ['1', '12', '20', '15', '19'],\n",
       " ['3', '15', '0', '2', '22'],\n",
       " ['9', '18', '13', '17', '5'],\n",
       " ['19', '8', '7', '25', '23'],\n",
       " ['20', '11', '10', '24', '4'],\n",
       " ['14', '21', '16', '12', '6'],\n",
       " ['14', '21', '17', '24', '4'],\n",
       " ['10', '16', '15', '9', '19'],\n",
       " ['18', '8', '23', '26', '20'],\n",
       " ['22', '11', '13', '6', '5'],\n",
       " ['2', '0', '12', '3', '7']]"
      ]
     },
     "execution_count": 68,
     "metadata": {},
     "output_type": "execute_result"
    }
   ],
   "source": [
    "bingo_board_processed = []\n",
    "\n",
    "for row in bingo_board:\n",
    "    row = pop_null(list_from_string(row))\n",
    "    bingo_board_processed.append(row)\n",
    "\n",
    "bingo_board_processed"
   ]
  },
  {
   "cell_type": "code",
   "execution_count": 70,
   "metadata": {},
   "outputs": [
    {
     "data": {
      "text/plain": [
       "3"
      ]
     },
     "execution_count": 70,
     "metadata": {},
     "output_type": "execute_result"
    }
   ],
   "source": [
    "number_of_matrixes = int(np.shape(bingo_board_processed)[0] / 5)\n",
    "number_of_matrixes\n",
    "\n",
    "#create x matrixes\n",
    "matrixes = []\n",
    "for i in range(number_of_matrixes):\n",
    "    matrixes.append(np.zeros((5,5)))"
   ]
  }
 ],
 "metadata": {
  "interpreter": {
   "hash": "382d39c3ac53e6337ac55162ad5e722ec7944445066a7fe21aafdd3d0fe8cd5c"
  },
  "kernelspec": {
   "display_name": "Python 3.9.7 64-bit ('PythonEnv': conda)",
   "language": "python",
   "name": "python3"
  },
  "language_info": {
   "codemirror_mode": {
    "name": "ipython",
    "version": 3
   },
   "file_extension": ".py",
   "mimetype": "text/x-python",
   "name": "python",
   "nbconvert_exporter": "python",
   "pygments_lexer": "ipython3",
   "version": "3.9.7"
  },
  "orig_nbformat": 4
 },
 "nbformat": 4,
 "nbformat_minor": 2
}
